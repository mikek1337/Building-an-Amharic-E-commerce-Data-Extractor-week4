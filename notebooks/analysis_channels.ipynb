{
 "cells": [
  {
   "cell_type": "code",
   "execution_count": 2,
   "id": "8363f5d4",
   "metadata": {},
   "outputs": [],
   "source": [
    "import pandas as pd\n",
    "import numpy as np"
   ]
  },
  {
   "cell_type": "code",
   "execution_count": 37,
   "id": "e6dc1dfb",
   "metadata": {},
   "outputs": [],
   "source": [
    "message_data = pd.read_csv('../data/cleaned_messages.csv')"
   ]
  },
  {
   "cell_type": "markdown",
   "id": "5b672260",
   "metadata": {},
   "source": [
    "We extracted the week and year from each message's date and calculated the number of posts per week for each channel. We then computed the average number of posts per week per channel and merged this information back into the original message data. This allows us to analyze posting activity and compare channel engagement over time."
   ]
  },
  {
   "cell_type": "code",
   "execution_count": 38,
   "id": "b884ab50",
   "metadata": {},
   "outputs": [
    {
     "name": "stdout",
     "output_type": "stream",
     "text": [
      "top 5 channels with average posts per week...\n",
      "        channel_name  average_posts_per_week\n",
      "10994      @AwasMart               31.600000\n",
      "5597       @qnashcom               25.402985\n",
      "2625        @Leyueqa               22.240000\n",
      "7811       @MerttEka               20.653846\n",
      "0      @ZemenExpress               18.440000\n"
     ]
    }
   ],
   "source": [
    "#average number of posts per week per channel \n",
    "message_data['week'] = pd.to_datetime(message_data['date']).dt.isocalendar().week\n",
    "message_data['year'] = pd.to_datetime(message_data['date']).dt.isocalendar().year\n",
    "weekly_posts = message_data.groupby(['year', 'week', 'channel_name']).size().reset_index(name='post_count')\n",
    "# Calculate the average number of posts per week per channel\n",
    "average_weekly_posts = weekly_posts.groupby('channel_name')['post_count'].mean().reset_index()\n",
    "average_weekly_posts.rename(columns={'post_count': 'average_posts_per_week'}, inplace=True)\n",
    "# Merge the average posts back into the original message data\n",
    "message_data = pd.merge(message_data, average_weekly_posts, on='channel_name', how='left')\n",
    "# Save the updated message data with post_ratio\n",
    "print(\"top 5 channels with average posts per week...\")\n",
    "print(message_data.loc[:, ['channel_name', 'average_posts_per_week']].drop_duplicates().sort_values(by='average_posts_per_week', ascending=False).head())\n"
   ]
  },
  {
   "cell_type": "markdown",
   "id": "38a73522",
   "metadata": {},
   "source": [
    "**Average post view per channel**"
   ]
  },
  {
   "cell_type": "code",
   "execution_count": 41,
   "id": "3d37778d",
   "metadata": {},
   "outputs": [
    {
     "name": "stdout",
     "output_type": "stream",
     "text": [
      "channels with average views...\n",
      "                  channel_name  average_views  average_posts_per_week\n",
      "10994                @AwasMart    3558.898734               31.600000\n",
      "5597                 @qnashcom   19210.548766               25.402985\n",
      "2625                  @Leyueqa   25583.372302               22.240000\n",
      "7811                 @MerttEka   22509.325885               20.653846\n",
      "0                @ZemenExpress    5201.516269               18.440000\n",
      "5306     @modernshoppingcenter   17393.728522               15.315789\n",
      "8348            @forfreemarket    9748.629412               14.166667\n",
      "4330     @helloomarketethiopia    4112.091189               13.369863\n",
      "7101              @gebeyaadama    4536.778873               12.033898\n",
      "3181                 @sinayelj    7124.996047               11.000000\n",
      "9415              @aradabrand2    4659.198020               10.821429\n",
      "1626   @ethio_brand_collection   39796.206206               10.515789\n",
      "9718               @marakisat2    2383.700155                9.803030\n",
      "746         @meneshayeofficial    2745.817045                9.361702\n",
      "10365             @belaclassic   13462.801272                8.168831\n",
      "8858             @classybrands    6884.972789                7.170732\n",
      "9152              @marakibrand   11207.281369                5.844444\n",
      "3434               @Shewabrand   20403.752232                5.239766\n",
      "461              @nevacomputer    4691.719298                4.830508\n",
      "6868                 @kuruwear    5483.952790                3.236111\n",
      "6448              @Fashiontera   10218.735714                2.485207\n"
     ]
    }
   ],
   "source": [
    "message_data['average_views'] = message_data.groupby('channel_name')['views'].transform('mean')\n",
    "print(\"channels with average views...\")\n",
    "print(message_data.loc[:, ['channel_name', 'average_views', 'average_posts_per_week']].drop_duplicates().sort_values(by='average_posts_per_week', ascending=False))"
   ]
  },
  {
   "cell_type": "code",
   "execution_count": 64,
   "id": "280aaccc",
   "metadata": {},
   "outputs": [],
   "source": [
    "import re\n",
    "\n",
    "def extract_price(text):\n",
    "    if pd.isnull(text):\n",
    "        return None\n",
    "    # Look for price patterns, e.g., 1234, 1,234, 1234 birr, etc.\n",
    "    match = re.search(r'(\\d{1,3}(?:,\\d{3})*|\\d+)\\s*(birr|br|ብር)', text, re.IGNORECASE)\n",
    "    if match:\n",
    "        return match.group(1).replace(',', '')\n",
    "    return 0"
   ]
  },
  {
   "cell_type": "markdown",
   "id": "211b030f",
   "metadata": {},
   "source": [
    "#### Price of max viewed post products"
   ]
  },
  {
   "cell_type": "code",
   "execution_count": 65,
   "id": "f84cc672",
   "metadata": {},
   "outputs": [
    {
     "data": {
      "application/vnd.microsoft.datawrangler.viewer.v0+json": {
       "columns": [
        {
         "name": "channel_name",
         "rawType": "object",
         "type": "string"
        },
        {
         "name": "views",
         "rawType": "float64",
         "type": "float"
        },
        {
         "name": "message",
         "rawType": "object",
         "type": "string"
        },
        {
         "name": "price",
         "rawType": "object",
         "type": "unknown"
        }
       ],
       "ref": "36b49692-8460-4f54-ae69-c18db4422d8a",
       "rows": [
        [
         "@sinayelj",
         "131282.0",
         "Kids Hula Hoop In/Outdoor Fitness Collapsible Adjustable Colourful Fun Game Ring  1200 birr  ለልጆ ኦሪጅናል በቀጥታ ከካምፓኒ የሚመጡ እቃዎችን በቅናሽ ዋጋ የሚያገኙበት ቦታ SINA KIDS/ሲና ኪድስ ጥራታቸውን ባልጠበቁ እቃዎች ልጆን አደጋ ላይ እንዳይጥሉ ይጠንቀቁ  0909003864 0905707448    ሊንኩን በመጫን ቴሌግራማችንን ይቀላቀሉ  እቃ ለማዘዝ ከስር ያለውን ሊንኮች በመጫን ማዘዝ ትችላላቹ        አድራሻ   1⃣ቁጥር1 ገርጂ ኢምፔሪያል ከሳሚ ህንፃ ጎን አልፎዝ ፕላዛ ግራውንድ ላይ እንደገቡ ያገኙናል  2⃣ቁጥር2 4ኪሎ ቅድስት ስላሴ ህንፃ ማለትም ከብልፅግና ዋናፅፈት ቤት ህንፃ በስተ ቀኝ ባለው አስፓልት 20ሜትር ዝቅ እንዳሉ ሀበሻ ኮፊ የሚገኝበት ቀይ ሸክላ ህንፃ 2ተኛ ፎቅ ላይ ያገኙናል  ክቡራን ደምበኞቻችን ገርጂ አልፎዝ ፕላዛ ላይ አራት ኪሎ ቅድስት ስላሴ ያሉት ሱቆቻችን ሲመጡ  አስተማማኝ ሰፊ ፓርኪንግ ያላቸው መሆናቸውን በታላቅ ደስታ እናበስራለን",
         "1200"
        ],
        [
         "@Leyueqa",
         "118617.0",
         " የፈሳሽ መጠጦች ማቅረቢያ  3 የተለያዩ መጠጦች በአንድ ላይ  የየራሳቸዉ ቧንቧ ያላቸዉ  360 ዲግሪ የሚሽከረከር  በድምሩ 52 ሊትር የሚይዙ  ዉስን ፍሬ ነዉ የገባዉ    2800ብር ከነፃ ዲሊቨሪ ጋር ከነፃ ዲሊቨሪ ጋር   0946242424    0944109295     0933334444   ክፍያዎን_በሞባይል_ባንኪንግ_መፈፀምም_ይችላሉ በተጨማሪ #ከ_1000_ብር በላይ የሆኑ #ሁለት_ዕቃዎች ሲገዙ ስጦታ እንልክለዎታለን   Tme/Leyueqa ቻናላችንን ለጓደኛዎ ሸር ማድረግዎን አይርሱ",
         "2800"
        ],
        [
         "@Shewabrand",
         "114819.0",
         "አልቆ የነበረዉ Under armour Curry 11 በድጋሚ አስገብተናል ORIGINAL   size 41 MADE IN VIETNAM SHEWA BRAND አድራሻ ድሬዳዋ አሸዋ ሚና ህንፃ 1ኛ ፎቅ ላይ እንገኛለን  የቴሌግራም ቻናላችንን ይቀላቀሉ      የቤት ቁጥር 109 እና 110 በ inbox  አዋሩን   0987336458 0948595409 ይደውሉልን",
         "0"
        ],
        [
         "@ethio_brand_collection",
         "57101.0",
         "Skechers Ultra Lace   Size 40,41,43 Price 3400 birr አድራሻ-ሜክሲኮ ኮሜርስ ጀርባ መዚድ ፕላዛ የመጀመሪያ ደረጃ እንደወጡ 101 የቢሮ ቁጥር ያገኙናል or call 0920238243                                     EthioBrand ",
         "3400"
        ],
        [
         "@Fashiontera",
         "40998.0",
         " Made in Vietnam   Size    41,42 Price   3400 (Free Delivery) Inbox  ስልክ +251945355266       ፋሽን ተራ /Fashion Tera             አድራሻ: አዲስ አበባ ,ጦር ሀይሎች ድሪም ታወር 2ተኛ ፎቅ ",
         "0"
        ],
        [
         "@qnashcom",
         "40718.0",
         "Knee Pain Relief Patch   Specifically designed for maximum absorption into the knee so you can feel relieved instantly   Provides direct relief to any affected area of the knee and without the side effects of regular medications   Made from Chinese roots and herbs   Has 10 medicatedpatches in one pack    450 ብር  ውስን ፍሬ ነው የቀረው   Telegram - tme/qnashcom   ጥራት  ዋስትና  ቅናሽ  አድራሻ ፦  ቁጥር 1 :- መገናኛ ዘፍመሽ ግራንድ ሞል 3 ተኛ ፎቅ ቁጥር 329   ቁጥር 2 :- ጀሞ 1 ከለላ ህንፃ ግራውንድ ለይ G07    ማሳሰብያ: ሱቃችን ሲመጡ ትክክለኛ የኛ ሱቅ መሆኑ ያረጋግጡ የራሳችን ሎጎ መኖሩን እና 329 / G07 መሆኑ ያረጋግጡ !  ስልክ: 0946966440 0992606060 0905464599",
         "450"
        ],
        [
         "@MerttEka",
         "35640.0",
         " Microwave food cover   ማይክሮ ዌቭ ውስጥ ምግብ ሲያሞቁ መሸፈኛ  ከ20 ሊትር ጀምሮ መጠን ላላቸው ማይክሮ ዌቮች የሚሆን  ምግብዎ ላይ ባዕድ ቃና አይፈጠርብዎትም  የእንፏሎት ማስተንፈሻ ያለው    1150 ብር  AA Delivery  100 ብር ብቻ   መኪና ማቆሚያ ከተቸገሩ ይደውሉልን እናቀብልዎታለን     0944-22-23-24/    0904-94-48-48/   ሞባይል ባንኪንግ እንጠቀማለን   አድራሻችን  መገናኛ ዘፍመሽ ግራንድ ሞል 3ኛ ፎቅ ከሊፍት ሲወርዱ ወደ ቀኝ ታጥፈው ቀጥታ 376‌  TikTok  tiktokcom/ Telegram tme/MerttEka   ለወዳጆችዎ forward ያድርጉ",
         "1150"
        ],
        [
         "@meneshayeofficial",
         "32642.0",
         "ከእስክሪን ነፃ የሆነ  የቀለሜ መነሻ ጥቅል! ከእርሳስ አያያዝ ጀምሮ አማርኛና እንግሊዘኛ በቀላሉ ማንበብና መፃፍ የሚያስችል   ስለቀለሜ መነሻ የበለጠ ለማወቅ ከታች ያለውን ማስፈንጠሪያ ይጫኑ   0930323334/0989939393 ይደውሉልን         #መነሻዬ",
         "0"
        ],
        [
         "@nevacomputer",
         "28882.0",
         " Dell Precision Workstation  A powerful performance laptop, ideal for professionals, engineers, and creators     Processor (CPU) Intel Core i7 – 9th Generation  8 Cores | 16 Threads |  Turbo Boost up to 47GHz  Fast multitasking, great for heavy tasks like CAD, video editing & coding     Memory (RAM)  32GB DDR4 RAM  Seamless performance even with multiple programs running  Ideal for multitasking, virtual machines, or creative software     Storage  1TB NVMe SSD  Ultra-fast boot-up and file access  Massive space for all your files, software, and projects     Display (if you want to add)  156” Full HD /  Crisp visuals with rich color — perfect for designers & video editors     Build & Design  Premium aluminum/magnesium body  Sturdy and sleek workstation build  Precision-tuned for performance and durability     Ports & Connectivity  USB-C | HDMI | Thunderbolt | SD Card Reader | Wi-Fi | Ethernet  Long-lasting battery |  Fingerprint sensor (optional)     Perfect For:  • Graphic Designers   • Engineers & Architects   • Programmers   • Business Professionals   • Anyone who needs power + speed    ለአጭር መልእክት  ይደዉሉ  +251912759900 +251920153333",
         "0"
        ],
        [
         "@modernshoppingcenter",
         "28671.0",
         "ቴሌግራም tme/modernshoppingcenter  \"በአዲስ ነገረ ሁሌም ቀዳሚዏች ነን\"           የእንቁላል መቀቀያ   በትንሽ ደቂቃዎች ውስጥ መቀቀል የሚችል   በተጨማሪም ለጡጦ መቀቀያነትም የሚያገለግሉ   እንደ ድንች ፤ ካሮት የመሳሰሉትን መቀቀል የሚችል   350watt የሆነ   ለአጠቃቀም ቀላል  በሁለት አይነት የቀረበ    14 እንቁላል መቀቀል የሚችለው   በ  1600    7 እንቁላል መቀቀል የሚችለው   በ  1300    0924743736  0974978584   በስራችን ላይ ቅሬታ ካለዎት ብቻ በዚህ ስልክ ደዉለዉ ያሳዉቁን።  0961373839    የመረጡትን እቃ ለማዘዝ ከታች ባለዉ የቴሌግራም አድራሻ( Link ) ይላኩልን    tme/modernshopping1  tme/modernshopping2   አዲስ አበባ ዉስጥ ከ150ብር እስከ 200ብር ብቻ በማስከፈል ያሉበት ድረስ በፈጣን ሞተረኞቻችን እንልክልዏታለን።   ለክፍለ ሀገር ደንበኞቻችን በመነሐሪያ በኩል አድርገን በሹፌር እንልካለን።   አድራሻ    ቁጥር 1⃣ = ጉርድሾላ ከሴንቸሪ ሞል ትንሽ ዝቅ እንዳሉ ሆሊሲቲ ሴንተር ላይ እንደገቡ ፊትለፊት ከሊፍቱ በግራ በኩል ሚዛን ላይ M06  ቁጥር 2⃣ = ጀሞ መስታወት ፋብሪካ ጭስ መዉጫዉ ፊትለፊት ራሐ ሞል ግራዉንድ ፍሎር ከደረጃዉ ጎን(ትልቁ ሚና ፈርኒቸር ያለበት ህንፃ)    \"በሞደርን እቃወዏች ሂወትዎን  ሞደርናይዝ ያድርጉ \" ",
         "150"
        ],
        [
         "@marakisat2",
         "25142.0",
         "MAGIC REMOTE ሸጠን ጨርሰናል!  ክፍለሀገር ያላችሁ ደንበኞቻችንም ይሄን እቃ ብላችሁ ብር አታስገቡ።",
         "0"
        ],
        [
         "@belaclassic",
         "24307.0",
         " PRICE :- 4400 ብር  phone :- 0944222069  brand :- PUMA SPIREX   size :- 39,40,41,42,43,44  አድራሻ :- ሜክሲኮ ኬኬር ህንፃ 2ኛ ፎቅ በመጀመሪያው በስተቀኝእጥፍ ሲሉ ሱቅቁ 213",
         "4400"
        ],
        [
         "@forfreemarket",
         "23762.0",
         " Waterproof High Polymer Butyl Rubber    High Quality    ለሮቶ፥ለጣሪያ እና ለቧንቧ leakage መጠገኛ  Make up a leak instantly   Temperature Resistance   Size: 5 Meter   ",
         "0"
        ],
        [
         "@marakibrand",
         "21745.0",
         "Nike Air Force 1 Full white ™ Made In VIETNAM   Size:      Price: 6000 Br  Free Delivery    INBOX :    ስልክ: +251913321831  አድራሻ - አዲስ አበባ, ሜክሲኮ፡ ከ ኬኬር ህንጻ 50ሜ ወረድ ብሎ አይመን ህንፃ ግራውንድ ፍሎር ላይ፡ የሱቅ ቁ012 ⊰⊱⊰⊰ Maraki Brand™ ማራኪ ብራንድ™  ⊰⊱⊰⊱",
         "6000"
        ],
        [
         "@classybrands",
         "18844.0",
         "CLASSY BRAND   NFL Jersey Tshirt   Price 2500br  Shop Num  0907000777 Manager  0919181353 Join       Inbox      Address - Addis Ababa , HayaHulet (22 ) : Town Square Mall 4th floor : Shop num 402",
         "2500"
        ],
        [
         "@gebeyaadama",
         "13807.0",
         "kitchen stiker",
         "0"
        ],
        [
         "@kuruwear",
         "13161.0",
         "+251924337108 +251 11 663 0182  251 Communications and Marketing PLC",
         "0"
        ],
        [
         "@aradabrand2",
         "11280.0",
         "High Standard Clothing  Made in Turkey  Master Quality Only in our Shop  Price 2,500birr  Size# 31,32,32,34,35,36 FREE DELIVERY(ያሉበት ቦታ ያለተጨማሪ ክፍያ እናደርሳለን) ለሱቅና ብዛት ተረካቢዎች ባስተያየት 0977808897    አድራሻችን- ቄራ ሶፊያ ሞል ሁለተኛ ፎቅ ሱቁ 216",
         "2500"
        ],
        [
         "@ZemenExpress",
         "8601.0",
         "   LCD Writing Tablet   ለልጅዎ   Lcd writing tablet (85inch)  ልጆች እየተዝናኑ የሚማሩበት  LCD WRITING TAB ለፅሁፍ እና ለስዕል መለማመጃ የሚሆን የወረቀት እና እርሳስ ወጪን የሚቆጥብ ብናኝ ወይም አይን የሚወጋ ብርሀን ስለሌለው በምቾት እና በደህንነት ለረጅም ሰአት የሚጠቀሙበት ለቢሮ እና ለምግብ ቤት ለተለያዬ አገልግሎቶች መጠቀም ይችላሉ ምስሉ የፈለጉትን ያህል መቆየት የሚችል ሲሆን አንድ ቁልፍ ብቻ በመጫን መቆለፍም ሆነ መሰረዝ ያስችላል ታብሌቱ ቀጭን ስለሆነ በእጅ ቦርሳ ለመያዝ አመቺ ነው።  ዋጋ፦  550 ብር   ውስን ፍሬ ነው ያለው    አድራሻ  #መገናኛ_መሰረት_ደፋር_ሞል_ሁለተኛ_ፎቅ ቢሮ ቁ S05/S06         0902660722   0928460606    በTelegram ለማዘዝ  ይጠቀሙ       ለተጨማሪ ማብራሪያ የቴሌግራም ገፃችን   ",
         "550"
        ],
        [
         "@helloomarketethiopia",
         "8161.0",
         "ሁለት ሲገዙ 5% ቅናሽ  ሙሉ በሙሉ የመኝታ ቤትዎን ውበት የሚጨምር አነሶላ ለማዘዝ 8420 ይደውሉ ወይም  ይጠቀሙ!  መጠን: 240 * 175 ብዛት: ሁለት አንሶላ እና ሁለት የተራስ ልብስ     ",
         "0"
        ],
        [
         "@AwasMart",
         "4884.0",
         "Multifunctional Drain Rack",
         "0"
        ]
       ],
       "shape": {
        "columns": 3,
        "rows": 21
       }
      },
      "text/html": [
       "<div>\n",
       "<style scoped>\n",
       "    .dataframe tbody tr th:only-of-type {\n",
       "        vertical-align: middle;\n",
       "    }\n",
       "\n",
       "    .dataframe tbody tr th {\n",
       "        vertical-align: top;\n",
       "    }\n",
       "\n",
       "    .dataframe thead th {\n",
       "        text-align: right;\n",
       "    }\n",
       "</style>\n",
       "<table border=\"1\" class=\"dataframe\">\n",
       "  <thead>\n",
       "    <tr style=\"text-align: right;\">\n",
       "      <th></th>\n",
       "      <th>views</th>\n",
       "      <th>message</th>\n",
       "      <th>price</th>\n",
       "    </tr>\n",
       "    <tr>\n",
       "      <th>channel_name</th>\n",
       "      <th></th>\n",
       "      <th></th>\n",
       "      <th></th>\n",
       "    </tr>\n",
       "  </thead>\n",
       "  <tbody>\n",
       "    <tr>\n",
       "      <th>@sinayelj</th>\n",
       "      <td>131282.0</td>\n",
       "      <td>Kids Hula Hoop In/Outdoor Fitness Collapsible ...</td>\n",
       "      <td>1200</td>\n",
       "    </tr>\n",
       "    <tr>\n",
       "      <th>@Leyueqa</th>\n",
       "      <td>118617.0</td>\n",
       "      <td>የፈሳሽ መጠጦች ማቅረቢያ  3 የተለያዩ መጠጦች በአንድ ላይ  የየራሳቸዉ...</td>\n",
       "      <td>2800</td>\n",
       "    </tr>\n",
       "    <tr>\n",
       "      <th>@Shewabrand</th>\n",
       "      <td>114819.0</td>\n",
       "      <td>አልቆ የነበረዉ Under armour Curry 11 በድጋሚ አስገብተናል O...</td>\n",
       "      <td>0</td>\n",
       "    </tr>\n",
       "    <tr>\n",
       "      <th>@ethio_brand_collection</th>\n",
       "      <td>57101.0</td>\n",
       "      <td>Skechers Ultra Lace   Size 40,41,43 Price 3400...</td>\n",
       "      <td>3400</td>\n",
       "    </tr>\n",
       "    <tr>\n",
       "      <th>@Fashiontera</th>\n",
       "      <td>40998.0</td>\n",
       "      <td>Made in Vietnam   Size    41,42 Price   3400 ...</td>\n",
       "      <td>0</td>\n",
       "    </tr>\n",
       "    <tr>\n",
       "      <th>@qnashcom</th>\n",
       "      <td>40718.0</td>\n",
       "      <td>Knee Pain Relief Patch   Specifically designed...</td>\n",
       "      <td>450</td>\n",
       "    </tr>\n",
       "    <tr>\n",
       "      <th>@MerttEka</th>\n",
       "      <td>35640.0</td>\n",
       "      <td>Microwave food cover   ማይክሮ ዌቭ ውስጥ ምግብ ሲያሞቁ መ...</td>\n",
       "      <td>1150</td>\n",
       "    </tr>\n",
       "    <tr>\n",
       "      <th>@meneshayeofficial</th>\n",
       "      <td>32642.0</td>\n",
       "      <td>ከእስክሪን ነፃ የሆነ  የቀለሜ መነሻ ጥቅል! ከእርሳስ አያያዝ ጀምሮ አማ...</td>\n",
       "      <td>0</td>\n",
       "    </tr>\n",
       "    <tr>\n",
       "      <th>@nevacomputer</th>\n",
       "      <td>28882.0</td>\n",
       "      <td>Dell Precision Workstation  A powerful perfor...</td>\n",
       "      <td>0</td>\n",
       "    </tr>\n",
       "    <tr>\n",
       "      <th>@modernshoppingcenter</th>\n",
       "      <td>28671.0</td>\n",
       "      <td>ቴሌግራም tme/modernshoppingcenter  \"በአዲስ ነገረ ሁሌም ...</td>\n",
       "      <td>150</td>\n",
       "    </tr>\n",
       "    <tr>\n",
       "      <th>@marakisat2</th>\n",
       "      <td>25142.0</td>\n",
       "      <td>MAGIC REMOTE ሸጠን ጨርሰናል!  ክፍለሀገር ያላችሁ ደንበኞቻችንም ...</td>\n",
       "      <td>0</td>\n",
       "    </tr>\n",
       "    <tr>\n",
       "      <th>@belaclassic</th>\n",
       "      <td>24307.0</td>\n",
       "      <td>PRICE :- 4400 ብር  phone :- 0944222069  brand ...</td>\n",
       "      <td>4400</td>\n",
       "    </tr>\n",
       "    <tr>\n",
       "      <th>@forfreemarket</th>\n",
       "      <td>23762.0</td>\n",
       "      <td>Waterproof High Polymer Butyl Rubber    High ...</td>\n",
       "      <td>0</td>\n",
       "    </tr>\n",
       "    <tr>\n",
       "      <th>@marakibrand</th>\n",
       "      <td>21745.0</td>\n",
       "      <td>Nike Air Force 1 Full white ™ Made In VIETNAM ...</td>\n",
       "      <td>6000</td>\n",
       "    </tr>\n",
       "    <tr>\n",
       "      <th>@classybrands</th>\n",
       "      <td>18844.0</td>\n",
       "      <td>CLASSY BRAND   NFL Jersey Tshirt   Price 2500b...</td>\n",
       "      <td>2500</td>\n",
       "    </tr>\n",
       "    <tr>\n",
       "      <th>@gebeyaadama</th>\n",
       "      <td>13807.0</td>\n",
       "      <td>kitchen stiker</td>\n",
       "      <td>0</td>\n",
       "    </tr>\n",
       "    <tr>\n",
       "      <th>@kuruwear</th>\n",
       "      <td>13161.0</td>\n",
       "      <td>+251924337108 +251 11 663 0182  251 Communicat...</td>\n",
       "      <td>0</td>\n",
       "    </tr>\n",
       "    <tr>\n",
       "      <th>@aradabrand2</th>\n",
       "      <td>11280.0</td>\n",
       "      <td>High Standard Clothing  Made in Turkey  Master...</td>\n",
       "      <td>2500</td>\n",
       "    </tr>\n",
       "    <tr>\n",
       "      <th>@ZemenExpress</th>\n",
       "      <td>8601.0</td>\n",
       "      <td>LCD Writing Tablet   ለልጅዎ   Lcd writing tab...</td>\n",
       "      <td>550</td>\n",
       "    </tr>\n",
       "    <tr>\n",
       "      <th>@helloomarketethiopia</th>\n",
       "      <td>8161.0</td>\n",
       "      <td>ሁለት ሲገዙ 5% ቅናሽ  ሙሉ በሙሉ የመኝታ ቤትዎን ውበት የሚጨምር አነሶ...</td>\n",
       "      <td>0</td>\n",
       "    </tr>\n",
       "    <tr>\n",
       "      <th>@AwasMart</th>\n",
       "      <td>4884.0</td>\n",
       "      <td>Multifunctional Drain Rack</td>\n",
       "      <td>0</td>\n",
       "    </tr>\n",
       "  </tbody>\n",
       "</table>\n",
       "</div>"
      ],
      "text/plain": [
       "                            views  \\\n",
       "channel_name                        \n",
       "@sinayelj                131282.0   \n",
       "@Leyueqa                 118617.0   \n",
       "@Shewabrand              114819.0   \n",
       "@ethio_brand_collection   57101.0   \n",
       "@Fashiontera              40998.0   \n",
       "@qnashcom                 40718.0   \n",
       "@MerttEka                 35640.0   \n",
       "@meneshayeofficial        32642.0   \n",
       "@nevacomputer             28882.0   \n",
       "@modernshoppingcenter     28671.0   \n",
       "@marakisat2               25142.0   \n",
       "@belaclassic              24307.0   \n",
       "@forfreemarket            23762.0   \n",
       "@marakibrand              21745.0   \n",
       "@classybrands             18844.0   \n",
       "@gebeyaadama              13807.0   \n",
       "@kuruwear                 13161.0   \n",
       "@aradabrand2              11280.0   \n",
       "@ZemenExpress              8601.0   \n",
       "@helloomarketethiopia      8161.0   \n",
       "@AwasMart                  4884.0   \n",
       "\n",
       "                                                                   message  \\\n",
       "channel_name                                                                 \n",
       "@sinayelj                Kids Hula Hoop In/Outdoor Fitness Collapsible ...   \n",
       "@Leyueqa                  የፈሳሽ መጠጦች ማቅረቢያ  3 የተለያዩ መጠጦች በአንድ ላይ  የየራሳቸዉ...   \n",
       "@Shewabrand              አልቆ የነበረዉ Under armour Curry 11 በድጋሚ አስገብተናል O...   \n",
       "@ethio_brand_collection  Skechers Ultra Lace   Size 40,41,43 Price 3400...   \n",
       "@Fashiontera              Made in Vietnam   Size    41,42 Price   3400 ...   \n",
       "@qnashcom                Knee Pain Relief Patch   Specifically designed...   \n",
       "@MerttEka                 Microwave food cover   ማይክሮ ዌቭ ውስጥ ምግብ ሲያሞቁ መ...   \n",
       "@meneshayeofficial       ከእስክሪን ነፃ የሆነ  የቀለሜ መነሻ ጥቅል! ከእርሳስ አያያዝ ጀምሮ አማ...   \n",
       "@nevacomputer             Dell Precision Workstation  A powerful perfor...   \n",
       "@modernshoppingcenter    ቴሌግራም tme/modernshoppingcenter  \"በአዲስ ነገረ ሁሌም ...   \n",
       "@marakisat2              MAGIC REMOTE ሸጠን ጨርሰናል!  ክፍለሀገር ያላችሁ ደንበኞቻችንም ...   \n",
       "@belaclassic              PRICE :- 4400 ብር  phone :- 0944222069  brand ...   \n",
       "@forfreemarket            Waterproof High Polymer Butyl Rubber    High ...   \n",
       "@marakibrand             Nike Air Force 1 Full white ™ Made In VIETNAM ...   \n",
       "@classybrands            CLASSY BRAND   NFL Jersey Tshirt   Price 2500b...   \n",
       "@gebeyaadama                                                kitchen stiker   \n",
       "@kuruwear                +251924337108 +251 11 663 0182  251 Communicat...   \n",
       "@aradabrand2             High Standard Clothing  Made in Turkey  Master...   \n",
       "@ZemenExpress               LCD Writing Tablet   ለልጅዎ   Lcd writing tab...   \n",
       "@helloomarketethiopia    ሁለት ሲገዙ 5% ቅናሽ  ሙሉ በሙሉ የመኝታ ቤትዎን ውበት የሚጨምር አነሶ...   \n",
       "@AwasMart                                       Multifunctional Drain Rack   \n",
       "\n",
       "                        price  \n",
       "channel_name                   \n",
       "@sinayelj                1200  \n",
       "@Leyueqa                 2800  \n",
       "@Shewabrand                 0  \n",
       "@ethio_brand_collection  3400  \n",
       "@Fashiontera                0  \n",
       "@qnashcom                 450  \n",
       "@MerttEka                1150  \n",
       "@meneshayeofficial          0  \n",
       "@nevacomputer               0  \n",
       "@modernshoppingcenter     150  \n",
       "@marakisat2                 0  \n",
       "@belaclassic             4400  \n",
       "@forfreemarket              0  \n",
       "@marakibrand             6000  \n",
       "@classybrands            2500  \n",
       "@gebeyaadama                0  \n",
       "@kuruwear                   0  \n",
       "@aradabrand2             2500  \n",
       "@ZemenExpress             550  \n",
       "@helloomarketethiopia       0  \n",
       "@AwasMart                   0  "
      ]
     },
     "execution_count": 65,
     "metadata": {},
     "output_type": "execute_result"
    }
   ],
   "source": [
    "message_group = message_data.loc[:, ['channel_name', 'average_views', 'average_posts_per_week', 'message', 'views']].groupby('channel_name').agg({\n",
    "    'views': 'max',\n",
    "    'message': lambda x: x.iloc[0] if len(x) > 0 else np.nan  \n",
    "\n",
    "}).sort_values(by='views', ascending=False)\n",
    "message_group['price'] = message_group['message'].apply(extract_price)\n",
    "message_group\n"
   ]
  },
  {
   "cell_type": "code",
   "execution_count": 66,
   "id": "2a8919d0",
   "metadata": {},
   "outputs": [
    {
     "name": "stdout",
     "output_type": "stream",
     "text": [
      "Average Price Point across channels: 2281.82 birr\n",
      "Average price per channel:\n",
      "channel_name\n",
      "@marakibrand               6000.0\n",
      "@belaclassic               4400.0\n",
      "@ethio_brand_collection    3400.0\n",
      "@Leyueqa                   2800.0\n",
      "@classybrands              2500.0\n",
      "@aradabrand2               2500.0\n",
      "@sinayelj                  1200.0\n",
      "@MerttEka                  1150.0\n",
      "@ZemenExpress               550.0\n",
      "@qnashcom                   450.0\n",
      "@modernshoppingcenter       150.0\n",
      "@AwasMart                     0.0\n",
      "@Fashiontera                  0.0\n",
      "@Shewabrand                   0.0\n",
      "@helloomarketethiopia         0.0\n",
      "@forfreemarket                0.0\n",
      "@gebeyaadama                  0.0\n",
      "@meneshayeofficial            0.0\n",
      "@marakisat2                   0.0\n",
      "@kuruwear                     0.0\n",
      "@nevacomputer                 0.0\n",
      "Name: price_numeric, dtype: float64\n"
     ]
    }
   ],
   "source": [
    "# Calculate the average price per channel from the 'message_group' DataFrame\n",
    "# Convert 'price' to numeric, coercing errors to NaN, then calculate the mean for each channel\n",
    "\n",
    "# Ensure 'price' is numeric\n",
    "message_group['price_numeric'] = pd.to_numeric(message_group['price'], errors='coerce')\n",
    "\n",
    "# Calculate average price point (excluding zeros and NaNs)\n",
    "average_price_point = message_group[message_group['price_numeric'] > 0]['price_numeric'].mean()\n",
    "\n",
    "print(f\"Average Price Point across channels: {average_price_point:.2f} birr\")\n",
    "\n",
    "# Optionally, show average price per channel\n",
    "avg_price_per_channel = message_group.groupby(message_group.index)['price_numeric'].mean()\n",
    "print(\"Average price per channel:\")\n",
    "print(avg_price_per_channel.dropna().sort_values(ascending=False))"
   ]
  },
  {
   "cell_type": "code",
   "execution_count": 67,
   "id": "f025f6e1",
   "metadata": {
    "vscode": {
     "languageId": "ruby"
    }
   },
   "outputs": [
    {
     "name": "stdout",
     "output_type": "stream",
     "text": [
      "               channel_name  average_views  average_posts_per_week  \\\n",
      "9   @ethio_brand_collection   39796.206206               10.515789   \n",
      "2                  @Leyueqa   25583.372302               22.240000   \n",
      "3                 @MerttEka   22509.325885               20.653846   \n",
      "4               @Shewabrand   20403.752232                5.239766   \n",
      "19                @qnashcom   19210.548766               25.402985   \n",
      "17    @modernshoppingcenter   17393.728522               15.315789   \n",
      "7              @belaclassic   13462.801272                8.168831   \n",
      "14             @marakibrand   11207.281369                5.844444   \n",
      "1              @Fashiontera   10218.735714                2.485207   \n",
      "10           @forfreemarket    9748.629412               14.166667   \n",
      "20                @sinayelj    7124.996047               11.000000   \n",
      "8             @classybrands    6884.972789                7.170732   \n",
      "13                @kuruwear    5483.952790                3.236111   \n",
      "5             @ZemenExpress    5201.516269               18.440000   \n",
      "18            @nevacomputer    4691.719298                4.830508   \n",
      "6              @aradabrand2    4659.198020               10.821429   \n",
      "11             @gebeyaadama    4536.778873               12.033898   \n",
      "12    @helloomarketethiopia    4112.091189               13.369863   \n",
      "0                 @AwasMart    3558.898734               31.600000   \n",
      "16       @meneshayeofficial    2745.817045                9.361702   \n",
      "15              @marakisat2    2383.700155                9.803030   \n",
      "\n",
      "    lending_score  \n",
      "9    19903.360998  \n",
      "2    12802.806151  \n",
      "3    11264.989865  \n",
      "4    10204.495999  \n",
      "19    9617.975876  \n",
      "17    8704.522156  \n",
      "7     6735.485052  \n",
      "14    5606.562907  \n",
      "1     5110.610461  \n",
      "10    4881.398039  \n",
      "20    3567.998024  \n",
      "8     3446.071760  \n",
      "13    2743.594450  \n",
      "5     2609.978134  \n",
      "18    2348.274903  \n",
      "6     2335.009724  \n",
      "11    2274.406386  \n",
      "12    2062.730526  \n",
      "0     1795.249367  \n",
      "16    1377.589374  \n",
      "15    1196.751592  \n"
     ]
    }
   ],
   "source": [
    "# Calculate Lending Score: (Avg Views * 0.5) + (Posting Frequency * 0.5)\n",
    "# Use average_views and average_posts_per_week from message_data, grouped by channel\n",
    "\n",
    "lending_score_df = message_data.groupby('channel_name').agg({\n",
    "    'average_views': 'first',\n",
    "    'average_posts_per_week': 'first'\n",
    "}).reset_index()\n",
    "\n",
    "lending_score_df['lending_score'] = (\n",
    "    lending_score_df['average_views'] * 0.5 +\n",
    "    lending_score_df['average_posts_per_week'] * 0.5\n",
    ")\n",
    "\n",
    "# Sort by Lending Score descending\n",
    "lending_score_df = lending_score_df.sort_values(by='lending_score', ascending=False)\n",
    "\n",
    "print(lending_score_df[['channel_name', 'average_views', 'average_posts_per_week', 'lending_score']])"
   ]
  }
 ],
 "metadata": {
  "kernelspec": {
   "display_name": ".venv",
   "language": "python",
   "name": "python3"
  },
  "language_info": {
   "codemirror_mode": {
    "name": "ipython",
    "version": 3
   },
   "file_extension": ".py",
   "mimetype": "text/x-python",
   "name": "python",
   "nbconvert_exporter": "python",
   "pygments_lexer": "ipython3",
   "version": "3.13.3"
  }
 },
 "nbformat": 4,
 "nbformat_minor": 5
}
