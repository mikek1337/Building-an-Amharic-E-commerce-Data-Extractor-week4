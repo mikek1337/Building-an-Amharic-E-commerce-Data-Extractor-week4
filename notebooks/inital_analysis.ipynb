{
 "cells": [
  {
   "cell_type": "code",
   "execution_count": 17,
   "id": "d7db9612",
   "metadata": {},
   "outputs": [],
   "source": [
    "import sys\n",
    "import pandas as pd\n",
    "sys.path.append('../scripts')\n",
    "from preprocess import process_text"
   ]
  },
  {
   "cell_type": "markdown",
   "id": "e6d037d4",
   "metadata": {},
   "source": [
    "### Inital cleanup"
   ]
  },
  {
   "cell_type": "code",
   "execution_count": 18,
   "id": "76fda50b",
   "metadata": {},
   "outputs": [],
   "source": [
    "data = pd.read_csv('../data/messages.csv')"
   ]
  },
  {
   "cell_type": "code",
   "execution_count": 19,
   "id": "5b85dc47",
   "metadata": {},
   "outputs": [],
   "source": [
    "data = data.dropna()"
   ]
  },
  {
   "cell_type": "code",
   "execution_count": 20,
   "id": "b74f8f4c",
   "metadata": {},
   "outputs": [],
   "source": [
    "data['message'] = data['message'].apply(process_text)"
   ]
  },
  {
   "cell_type": "code",
   "execution_count": 21,
   "id": "0a5d8901",
   "metadata": {},
   "outputs": [],
   "source": [
    "data = data.dropna()\n",
    "data.to_csv('../data/cleaned_messages.csv')\n"
   ]
  },
  {
   "cell_type": "code",
   "execution_count": 22,
   "id": "cc1ff08d",
   "metadata": {},
   "outputs": [],
   "source": [
    "test = pd.read_csv('../data/cleaned_messages.csv')"
   ]
  }
 ],
 "metadata": {
  "kernelspec": {
   "display_name": ".venv",
   "language": "python",
   "name": "python3"
  },
  "language_info": {
   "codemirror_mode": {
    "name": "ipython",
    "version": 3
   },
   "file_extension": ".py",
   "mimetype": "text/x-python",
   "name": "python",
   "nbconvert_exporter": "python",
   "pygments_lexer": "ipython3",
   "version": "3.13.3"
  }
 },
 "nbformat": 4,
 "nbformat_minor": 5
}
