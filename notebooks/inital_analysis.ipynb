{
 "cells": [
  {
   "cell_type": "code",
   "execution_count": 2,
   "id": "d7db9612",
   "metadata": {},
   "outputs": [],
   "source": [
    "import sys\n",
    "import pandas as pd\n",
    "sys.path.append('../scripts')\n",
    "from preprocess import process_text, process_language"
   ]
  },
  {
   "cell_type": "markdown",
   "id": "e6d037d4",
   "metadata": {},
   "source": [
    "### Inital cleanup"
   ]
  },
  {
   "cell_type": "code",
   "execution_count": 3,
   "id": "76fda50b",
   "metadata": {},
   "outputs": [],
   "source": [
    "data = pd.read_csv('../data/messages.csv')"
   ]
  },
  {
   "cell_type": "markdown",
   "id": "03459c89",
   "metadata": {},
   "source": [
    "**removes missing values**"
   ]
  },
  {
   "cell_type": "code",
   "execution_count": 4,
   "id": "5b85dc47",
   "metadata": {},
   "outputs": [],
   "source": [
    "data = data.dropna()"
   ]
  },
  {
   "cell_type": "markdown",
   "id": "861f2a43",
   "metadata": {},
   "source": [
    "**Removes emojes, tabs and other characters**"
   ]
  },
  {
   "cell_type": "code",
   "execution_count": 5,
   "id": "b74f8f4c",
   "metadata": {},
   "outputs": [],
   "source": [
    "data['message'] = data['message'].apply(process_text)\n"
   ]
  },
  {
   "cell_type": "markdown",
   "id": "94a5f149",
   "metadata": {},
   "source": [
    "**Load cleaned messages**"
   ]
  },
  {
   "cell_type": "code",
   "execution_count": 6,
   "id": "0a5d8901",
   "metadata": {},
   "outputs": [],
   "source": [
    "data.to_csv('../data/cleaned_messages.csv')"
   ]
  },
  {
   "cell_type": "markdown",
   "id": "91fd70fe",
   "metadata": {},
   "source": [
    "**Save tokenized messages to a message_tokens.txt**"
   ]
  },
  {
   "cell_type": "code",
   "execution_count": 11,
   "id": "cc1ff08d",
   "metadata": {},
   "outputs": [
    {
     "name": "stdout",
     "output_type": "stream",
     "text": [
      "['imitation', 'volcano', 'humidifier', 'with', 'led', 'light', 'በኤሌክትሪክ', ':', 'የሚሰራ', 'ለቤት', 'መልካም', 'መአዛን', 'የሚሰጥ', 'ዋጋ፦', '1400', 'ብር', 'ውስን', 'ፍሬ', 'ያለን', 'አድራሻ', '#', 'መገናኛ_መሰረት_ደፋር_ሞል_ሁለተኛ_ፎቅ', 'ቢሮ', 'ቁ', 's05/s06', '0902660722', '0928460606', 'በTelegram', 'ለማዘዝ', 'ይጠቀሙ', 'ለተጨማሪ', 'ማብራሪያ', 'የቴሌግራም', 'ገፃችን']\n",
      "['baby', 'carrier', 'በፈለጉት', 'አቅጣጫ', 'ልጅዎን', 'በምቾት', 'ማዘል', 'ያስችልዎታል', 'ዋጋ፦', '2400', 'ብር', 'ውስን', 'ፍሬ', 'ያለን', 'አድራሻ', '#', 'መገናኛ_መሰረት_ደፋር_ሞል_ሁለተኛ_ፎቅ', 'ቢሮ', 'ቁ', 's05/s06', '0902660722', '0928460606', 'በTelegram', 'ለማዘዝ', 'ይጠቀሙ', 'ለተጨማሪ', 'ማብራሪያ', 'የቴሌግራም', 'ገፃችን']\n",
      "['smart', 'usb', 'ultrasonic', 'car', 'and', 'home', 'air', 'humidifier', 'with', 'colorful', 'led', 'light', 'original', 'high-quality', 'በኤሌክትሪክ', 'የሚሰራ', 'ለቤትና', 'ለመኪና', 'መልካም', 'መአዛን', 'የሚሰጥ', 'elevate', 'the', 'comfort', 'level', 'within', 'your', 'living', 'premises', 'with', 'this', 'fantastic', 'green', 'lion', 'air', 'mist', 'humidifier', 'ዋጋ፦', '1100', 'ብር', 'ውስን', 'ፍሬ', 'ያለን', 'አድራሻ', '#', 'መገናኛ_መሰረት_ደፋር_ሞል_ሁለተኛ_ፎቅ', 'ቢሮ', 'ቁ', 's05/s06', '0902660722', '0928460606', 'በTelegram', 'ለማዘዝ', 'ይጠቀሙ', 'ለተጨማሪ', 'ማብራሪያ', 'የቴሌግራም', 'ገፃችን']\n",
      "['baby', 'head', 'helmet', 'cotton', 'walk', 'safety', 'hat', 'breathable', 'headgear', 'toddler', 'antifall', 'pad', 'this', 'product', 'is', 'made', 'of', 'non-toxic', 'cotton', 'material', 'it', 'can', 'be', 'adjustable', 'to', 'fits', 'all', 'the', 'different', 'size', 'of', 'head', 'the', 'product', 'is', 'also', 'breathable', 'and', 'the', 'baby', \"'s\", 'head', 'will', 'not', 'be', 'sultry', 'and', 'muggy', 'when', 'playing', 'ዋጋ፦', '550', 'ብር', 'ውስን', 'ፍሬ', 'ያለን', 'አድራሻ', '#', 'መገናኛ_መሰረት_ደፋር_ሞል_ሁለተኛ_ፎቅ', 'ቢሮ', 'ቁ', 's05/s06', '0902660722', '0928460606', 'በTelegram', 'ለማዘዝ', 'ይጠቀሙ', 'ለተጨማሪ', 'ማብራሪያ', 'የቴሌግራም', 'ገፃችን']\n",
      "['በረፍት', 'ቀንዎ', 'ሱቅ', 'መስተናገድ', 'ለምትፈልጉ', 'ውድ', 'ደንበኞቻችን', 'ነገ', 'ከጠዋቱ', '4:30', '_', 'ቀኑ', '11:00', 'ድረስ', 'ሱቃችን', 'ክፍት', 'ሁኖ', 'ይጠብቅዎታል', 'ሱቅ', 'መተው', 'መግዛት', 'ላልቻላችሁ', 'በሞተረኞች', 'ያሉበት', 'እናደርሳለን', 'ዘወትር', 'ሰኞ', '_ቅዳሜ', 'ከጠዋቱ', '2:30', 'ምሽቱ', '2:00', 'ድረስ', 'ክፍት', 'እንገልፃለን', 'አድራሻ', '#', 'መገናኛ_መሰረት_ደፋር_ሞል_ሁለተኛ_ፎቅ', 'ቢሮ', 'ቁ', 's05/s06', '0902660722', '0928460606', 'በTelegram', 'ለማዘዝ', 'ይጠቀሙ', 'ለተጨማሪ', 'ማብራሪያ', 'የቴሌግራም', 'ገፃችን']\n",
      "['baby', 'knee', 'socks', 'ልጅዎ', 'መዳህ', 'በሚጀምሩበት', 'ተመራጭ', 'ዋጋ፦', '250', 'ብር', 'ውስን', 'ፍሬ', 'ያለን', 'አድራሻ', '#', 'መገናኛ_መሰረት_ደፋር_ሞል_ሁለተኛ_ፎቅ', 'ቢሮ', 'ቁ', 's05/s06', '0902660722', '0928460606', 'በTelegram', 'ለማዘዝ', 'ይጠቀሙ', 'ለተጨማሪ', 'ማብራሪያ', 'የቴሌግራም', 'ገፃችን']\n",
      "['5-in-1', 'trouser', 'hanger', 'የሱሪ', 'ማስቀመጫ', 'ዋጋ፦', '650', 'ብር', 'ውስን', 'ፍሬ', 'ያለን', 'አድራሻ', '#', 'መገናኛ_መሰረት_ደፋር_ሞል_ሁለተኛ_ፎቅ', 'ቢሮ', 'ቁ', 's05/s06', '0902660722', '0928460606', 'በTelegram', 'ለማዘዝ', 'ይጠቀሙ', 'ለተጨማሪ', 'ማብራሪያ', 'የቴሌግራም', 'ገፃችን']\n",
      "['waterproof', 'shower', 'cap', 'reusable', 'ዋጋ፦', '200', 'ብር', 'ውስን', 'ፍሬ', 'አድራሻ', '#', 'መገናኛ_መሰረት_ደፋር_ሞል_ሁለተኛ_ፎቅ', 'ቢሮ', 'ቁ', 's05/s06', '0902660722', '0928460606', 'በTelegram', 'ለማዘዝ', 'ይጠቀሙ', 'ለተጨማሪ', 'ማብራሪያ', 'የቴሌግራም', 'ገፃችን']\n",
      "['shock', 'and', 'noise', 'cancelling', 'washing', 'machine', 'support', 'washer', 'and', 'dryer', 'pedestals', ',', 'anti', 'slip', 'anti', 'vibration', 'rubber', 'washing', 'machine', 'feet', 'pads', 'washing', 'machine', 'stabilizer', 'for', 'raise', 'height', 'reduce', 'noise', '4pcs', 'ዋጋ፦', '500', 'ብር', 'ውስን', 'ፍሬ', 'ያለን', 'አድራሻ', '#', 'መገናኛ_መሰረት_ደፋር_ሞል_ሁለተኛ_ፎቅ', 'ቢሮ', 'ቁ', 's05/s06', '0902660722', '0928460606', 'በTelegram', 'ለማዘዝ', 'ይጠቀሙ', 'ለተጨማሪ', 'ማብራሪያ', 'የቴሌግራም', 'ገፃችን']\n",
      "['magic', 'silicone', 'dish', 'washing', 'gloves', 'high', 'quality', '(', 'ወፍራሙ', ')', 'እቃ', 'ለማጠብ', 'ቤት', 'ለማፅዳት', 'መኪና', 'ለማጠብ', 'ለተለያየ', 'አገልግሎት', 'የሚውል', 'ዋጋ፦', '350ብር', 'ውስን', 'ፍሬ', 'አድራሻ', '#', 'መገናኛ_መሰረት_ደፋር_ሞል_ሁለተኛ_ፎቅ', 'ቢሮ', 'ቁ', 's05/s06', '0902660722', '0928460606', 'በTelegram', 'ለማዘዝ', 'ይጠቀሙ', 'ለተጨማሪ', 'ማብራሪያ', 'የቴሌግራም', 'ገፃችን']\n",
      "['13pc', 'portable', 'health', 'care', 'kit', 'designed', 'for', 'newborn', 'babies', '13', 'pieces', 'of', 'baby', 'care', 'set', ',', 'stored', 'in', 'a', 'carton', 'for', 'easy', 'storage', '&', 'organizing', 'simple', ',', 'convenientandeasytouse', 'madeofgreenmaterialstocareforthebaby', '’', 'sgrowth', 'effectivelyprotectbaby', '’', 'shealth', 'newandhighquality', 'ዋጋ፦', '1100', 'ብር', 'ውስን', 'ፍሬ', 'አድራሻ', '#', 'መገናኛ_መሰረት_ደፋር_ሞል_ሁለተኛ_ፎቅ', 'ቢሮ', 'ቁ', 's05/s06', '0902660722', '0928460606', 'በTelegram', 'ለማዘዝ', 'ይጠቀሙ', 'ለተጨማሪ', 'ማብራሪያ', 'የቴሌግራም', 'ገፃችን']\n",
      "['three-layer', 'baby', 'milk', 'powder', 'container', 'high', 'quality', 'three', 'layer', 'no-spill', 'baby', 'feeding', 'milk', 'powder', 'food', 'dispenser', 'a', 'perfect', 'storage', 'for', 'travel', 'or', 'home', 'use', 'እናት', 'ልጇን', 'ይዛ', 'የተለያየ', 'ቦታ', 'ስትንቀሳቀስ', 'የዱቄት', 'ወተት', 'የመሳሰሉትን', 'አስፈላጊ', 'የልጆች', 'ምግብ', 'ይዞ', 'ለመንቀሳቀስ', 'የሚረዳ', '3', 'ፓርቲሽን', 'አሪፍ', 'ኮንቴነር', 'ዋጋ፦', '550ብር', 'ውስን', 'ፍሬ', 'አድራሻ', '#', 'መገናኛ_መሰረት_ደፋር_ሞል_ሁለተኛ_ፎቅ', 'ቢሮ', 'ቁ', 's05/s06', '0902660722', '0928460606', 'በTelegram', 'ለማዘዝ', 'ይጠቀሙ', 'ለተጨማሪ', 'ማብራሪያ', 'የቴሌግራም', 'ገፃችን']\n",
      "['three-layer', 'baby', 'milk', 'powder', 'container', 'high', 'quality', 'three', 'layer', 'no-spill', 'baby', 'feeding', 'milk', 'powder', 'food', 'dispenser', 'a', 'perfect', 'storage', 'for', 'travel', 'or', 'home', 'use', 'እናት', 'ልጇን', 'ይዛ', 'የተለያየ', 'ቦታ', 'ስትንቀሳቀስ', 'የዱቄት', 'ወተት', 'የመሳሰሉትን', 'አስፈላጊ', 'የልጆች', 'ምግብ', 'ይዞ', 'ለመንቀሳቀስ', 'የሚረዳ', '3', 'ፓርቲሽን', 'አሪፍ', 'ኮንቴነር', 'ዋጋ፦', '500ብር', 'ውስን', 'ፍሬ', 'አድራሻ', '#', 'መገናኛ_መሰረት_ደፋር_ሞል_ሁለተኛ_ፎቅ', 'ቢሮ', 'ቁ', 's05/s06', '0902660722', '0928460606', 'በTelegram', 'ለማዘዝ', 'ይጠቀሙ', 'ለተጨማሪ', 'ማብራሪያ', 'የቴሌግራም', 'ገፃችን']\n",
      "['አልቋል', 'ለተባላችሁ', 'በድጋሜ', 'ገብቷል', 'only', 'baby', '3in1', 'double', 'bottle', 'milk', 'warmer', ',', 'sterilizer', ',', 'food', 'steamer', 'ለህፃን', 'ወተት', 'ማሞቂያ', 'በተጨማሪ', 'ምግብ', 'ለመቀቀል', 'የሚሆን', 'ዋጋ፦', '3000', 'ብር', 'ውስን', 'ፍሬ', 'አድራሻ', '#', 'መገናኛ_መሰረት_ደፋር_ሞል_ሁለተኛ_ፎቅ', 'ቢሮ', 'ቁ', 's05/s06', '0902660722', '0928460606', 'በTelegram', 'ለማዘዝ', 'ይጠቀሙ', 'ለተጨማሪ', 'ማብራሪያ', 'የቴሌግራም', 'ገፃችን']\n",
      "['mini', 'pocket', 'uv', 'umbrella', 'የቀለም', 'አማራጭ', 'አላቸው', 'ቀላል፣', 'ለመያዝ', 'ምቹ', 'ጥላ', 'በትንሽ', 'የእጅ', 'ቦርሳ', 'በኪስ', 'መያዝ', 'የሚችል', ':', 'compact', '&', 'light-weight', 'unique', 'design', 'uv', 'protection', 'ዋጋ፦', '1000ብር', 'ውስን', 'ፍሬ', 'አድራሻ', '#', 'መገናኛ_መሰረት_ደፋር_ሞል_ሁለተኛ_ፎቅ', 'ቢሮ', 'ቁ', 's05/s06', '0902660722', '0928460606', 'በTelegram', 'ለማዘዝ', 'ይጠቀሙ', 'ለተጨማሪ', 'ማብራሪያ', 'የቴሌግራም', 'ገፃችን']\n",
      "['waterproof', 'baby', 'urine', 'mat', 'cover', 'ውሀ', 'የማያስገባ', 'እንደገና', 'ሊታጠብ', 'የሚችል', 'የህፃን', 'የሽንት', 'ምንጣፍ።', 'በተጨማሪም', 'ዳይፐር', 'ለመቀየር', 'የሚያገለግል', 'reusable', 'washable', 'size', ':', '1m×80cm', 'ዋጋ፦', '650ብር', 'ውስን', 'ፍሬ', 'አድራሻ', '#', 'መገናኛ_መሰረት_ደፋር_ሞል_ሁለተኛ_ፎቅ', 'ቢሮ', 'ቁ', 's05/s06', '0902660722', '0928460606', 'በTelegram', 'ለማዘዝ', 'ይጠቀሙ', 'ለተጨማሪ', 'ማብራሪያ', 'የቴሌግራም', 'ገፃችን']\n",
      "['space', 'triangles', 'for', 'hangers', '12pcs', 'ዋጋ፦', '400ብር', 'ውስን', 'ፍሬ', 'አድራሻ', '#', 'መገናኛ_መሰረት_ደፋር_ሞል_ሁለተኛ_ፎቅ', 'ቢሮ', 'ቁ', 's05/s06', '0902660722', '0928460606', 'በTelegram', 'ለማዘዝ', 'ይጠቀሙ', 'ለተጨማሪ', 'ማብራሪያ', 'የቴሌግራም', 'ገፃችን']\n",
      "['door', 'bottom', 'seal', 'strip', 'stopper', 'በበርዎ', 'ስር', 'አቧራ', 'ነፍሳት', 'እንዳይገባ', 'የሚከላከል', '!', '!', '!', 'high', 'quality', '®', 'አንደኛው', 'ወፍራሙ', 'keep', 'hot', 'and', 'cold', 'air', 'isolated', 'reduce', 'the', 'noise', 'outside', 'and', 'door', 'slamming', 'no', 'ዋጋ፦', '400ብር', 'ውስን', 'ፍሬ', 'አድራሻ', '#', 'መገናኛ_መሰረት_ደፋር_ሞል_ሁለተኛ_ፎቅ', 'ቢሮ', 'ቁ', 's05/s06', '0902660722', '0928460606', 'በTelegram', 'ለማዘዝ', 'ይጠቀሙ', 'ለተጨማሪ', 'ማብራሪያ', 'የቴሌግራም', 'ገፃችን']\n",
      "['one', 'fire', 'table', 'lamp', 'በተች', 'የሚሰራ', 'ቻርጅ', 'የሚደረግ', 'ለመኝታ', 'ቤት', '፣', 'ለሳሎን', '፣', 'ሆቴሎች', 'ለባዝ', 'ሩም', 'ዋጋ፦', '1900ብር', 'ውስን', 'ፍሬ', 'አድራሻ', '#', 'መገናኛ_መሰረት_ደፋር_ሞል_ሁለተኛ_ፎቅ', 'ቢሮ', 'ቁ', 's05/s06', '0902660722', '0928460606', 'በTelegram', 'ለማዘዝ', 'ይጠቀሙ', 'ለተጨማሪ', 'ማብራሪያ', 'የቴሌግራም', 'ገፃችን']\n",
      "['vaccuum', 'flask', 'set', 'የፔርሙዝ', 'ማግ', '3', 'መጠጫ', 'ኩባያዎች', 'ያሉት', '12', 'ሰአታት', 'የሞቀዉን', 'አሙቆ', 'የቀዘቀዘዉን', 'አቀዝቅዞ', 'ሚያስቀምጥ', 'ድንገት', 'ቢወድቅ', 'ከማይሰበር', 'ማቴሪያል', 'የተሰራ', '500ሚሊ', 'ሊትር', 'የመያዝ', 'አቅም', 'ያለዉ', 'በተለያየ', 'የከለር', 'አማራጭ', 'የቀረበ', 'ለስጦታ', 'የሚሆን', 'ማሸጊያና', 'መያዣ', 'ያለዉ', 'ዋጋ፦', '1200', 'ብር', 'ውስን', 'ፍሬ', 'አድራሻ', '#', 'መገናኛ_መሰረት_ደፋር_ሞል_ሁለተኛ_ፎቅ', 'ቢሮ', 'ቁ', 's05/s06', '0902660722', '0928460606', 'በTelegram', 'ለማዘዝ', 'ይጠቀሙ', 'ለተጨማሪ', 'ማብራሪያ', 'የቴሌግራም', 'ገፃችን']\n",
      "['ለመላው', 'የእስልምና', 'እምነት', 'ተከታዮች', 'በሙሉ', 'ለኢድ', 'አል', 'አድሀ', '(', 'አረፋ', ')', 'በአል', 'በሰላም', 'አደረሳችሁ', 'ሱቃችን', 'ሙሉ', 'ክፍት', 'አድራሻ', '#', 'መገናኛ_መሰረት_ደፋር_ሞል_ሁለተኛ_ፎቅ', 'ቢሮ', 'ቁ', 's05/s06', '0902660722', '0928460606', 'በTelegram', 'ለማዘዝ', 'ይጠቀሙ', 'ለተጨማሪ', 'ማብራሪያ', 'የቴሌግራም', 'ገፃችን']\n",
      "['stainless', 'steel', 'potato', 'masher', 'quality', 'ዋጋ፦', '450', 'ብር', 'ውስን', 'ፍሬ', 'አድራሻ', '#', 'መገናኛ_መሰረት_ደፋር_ሞል_ሁለተኛ_ፎቅ', 'ቢሮ', 'ቁ', 's05/s06', '0902660722', '0928460606', 'በTelegram', 'ለማዘዝ', 'ይጠቀሙ', 'ለተጨማሪ', 'ማብራሪያ', 'የቴሌግራም', 'ገፃችን']\n",
      "['2', 'in1', 'electric', 'foot', 'grinder', '&', 'hair', 'remover', 'የተረከዝ', 'ሞረድ', 'የፀጉር', 'ማንሻ', 'ቻርጅ', 'የሚሰራ', 'ዋጋ፦', '1000', 'ብር', 'ውስን', 'ፍሬ', 'አድራሻ', '#', 'መገናኛ_መሰረት_ደፋር_ሞል_ሁለተኛ_ፎቅ', 'ቢሮ', 'ቁ', 's05/s06', '0902660722', '0928460606', 'በTelegram', 'ለማዘዝ', 'ይጠቀሙ', 'ለተጨማሪ', 'ማብራሪያ', 'የቴሌግራም', 'ገፃችን']\n",
      "['garlic', 'press', 'chopper', 'kitchen', 'ginger', 'garlic', 'pressquick', 'grindingsaving', 'you', 'time', 'manual', 'extrusion', 'and', 'grinding', 'stainless', 'steel', 'materialfood', 'grade', 'safety', 'materialdurable', 'and', 'easy', 'to', 'clean', 'curved', 'plastic', 'handlecomfortable', 'to', 'use', 'ዋጋ፦', '350', 'ብር', 'ውስን', 'ፍሬ', 'አድራሻ', '#', 'መገናኛ_መሰረት_ደፋር_ሞል_ሁለተኛ_ፎቅ', 'ቢሮ', 'ቁ', 's05/s06', '0902660722', '0928460606', 'በTelegram', 'ለማዘዝ', 'ይጠቀሙ', 'ለተጨማሪ', 'ማብራሪያ', 'የቴሌግራም', 'ገፃችን']\n",
      "['over', 'toilet', 'storage', 'rack', 'የቦታ', 'ጥበት', 'ካለብዎ', 'ይሄ', 'ያስፈልግዎታል', 'toilet/kitchen', 'ሊጠቀሙበት', 'ይችላሉ', 'የንፅህና', 'እቃዎችን፣', 'ኮስሞቲክሶች', 'አትክልት/ፍራፍሬዎችን', 'ሊያስቀምጡበት', 'ይችላሉ', 'ግድግዳ', 'መብሳት', 'አያስፈልግዎትም', 'ከጠንካራ', 'ብረት', 'ፕላስቲክ', 'የተሰራ', 'እርጥበትን', 'የሚቋቋም', 'የማይዝግ', 'ማያያዣ', 'ሁክ', 'ዋጋ፦', '1500', 'ብር', 'ውስን', 'ፍሬ', 'አድራሻ', '#', 'መገናኛ_መሰረት_ደፋር_ሞል_ሁለተኛ_ፎቅ', 'ቢሮ', 'ቁ', 's05/s06', '0902660722', '0928460606', 'በTelegram', 'ለማዘዝ', 'ይጠቀሙ', 'ለተጨማሪ', 'ማብራሪያ', 'የቴሌግራም', 'ገፃችን']\n",
      "['coffee', 'cold', 'extraction', 'cup', 'ice', 'coffee', 'maker', 'portable', 'cold', 'brew', 'bottle', 'maker', 'mug', 'leak', 'proof', 'airtight', 'lid', 'with', 'mesh', 'filter', 'ice', 'coffee', 'jar', 'tea', 'infuser', 'for', 'outdoor', 'የአጠቃቀም', 'ዘዴ', '1⃣', ',', 'ለቡና', 'ዱቄት', 'የሚሆን', 'በቂ', 'ቦታ', 'በመተው', 'በውሀ', 'መሙላት', 'ይጀምሩ', '2⃣', ',', 'ባለው', 'ማጣሪያ', 'የሚፈልጉትን', 'የቡና', 'መጠን', 'ይጨምሩ', '3⃣', ',', 'የማጣሪያውን', 'ክዳን', 'አጥብቀው', 'ይዝጉ', 'የቡናውን', 'ቦታ', 'በእኩል', 'መጠን', 'ለማከፋፈል', 'ቀስ', 'ማወዛወዝ', '4⃣', ',', 'ለተወሰኑ', 'ሰአታት', 'ፍሪጅ', 'ማስቀመጥ', '5⃣', ',', 'ቀዝቃዛ', 'ቡናዎን', 'በበረዶ', 'ከወተት', 'በመቀላቀል', 'መጠጣት', 'ይችላሉ', 'ዋጋ፦', '900', 'ብር', 'ውስን', 'ፍሬ', 'አድራሻ', '#', 'መገናኛ_መሰረት_ደፋር_ሞል_ሁለተኛ_ፎቅ', 'ቢሮ', 'ቁ', 's05/s06', '0902660722', '0928460606', 'በTelegram', 'ለማዘዝ', 'ይጠቀሙ', 'ለተጨማሪ', 'ማብራሪያ', 'የቴሌግራም', 'ገፃችን']\n",
      "['floodlight', 'head', 'lamp', 'rechargeable', 'light', 'weight', 'applicable', 'to', 'various', 'scenarios', 'such', 'as', 'camping', 'night', 'running', 'repairing', 'cycling', 'ዋጋ፦', '950', 'ብር', 'ውስን', 'ፍሬ', 'አድራሻ', '#', 'መገናኛ_መሰረት_ደፋር_ሞል_ሁለተኛ_ፎቅ', 'ቢሮ', 'ቁ', 's05/s06', '0902660722', '0928460606', 'በTelegram', 'ለማዘዝ', 'ይጠቀሙ', 'ለተጨማሪ', 'ማብራሪያ', 'የቴሌግራም', 'ገፃችን']\n",
      "['car', 'solar', 'aromatherapy', 'ፀሀይ', 'ብርሀን', 'የሚሰራ', 'ለመኪናዎ', 'ጥሩ', 'ጠረን', 'የሚያላብስ', 'እየተሽከረከረ', 'አየር', 'በማፅዳት', 'ጥሩ', 'መአዛን', 'የሚሰጥ', 'ለመኪናዎ', 'ተጨማሪ', 'ውበትን', 'የሚሰጥ', 'በተመጣጣኝ', 'ዋጋ', 'ዋጋ፦', '850', 'ብር', 'ውስን', 'ፍሬ', 'አድራሻ', '#', 'መገናኛ_መሰረት_ደፋር_ሞል_ሁለተኛ_ፎቅ', 'ቢሮ', 'ቁ', 's05/s06', '0902660722', '0928460606', 'በTelegram', 'ለማዘዝ', 'ይጠቀሙ', 'ለተጨማሪ', 'ማብራሪያ', 'የቴሌግራም', 'ገፃችን']\n",
      "['silicone', 'thumb', 'cutter', 'የጣት', 'ጥፍር', 'መከላከያ', 'ሽንኩርት', 'ሲልጡ', '፣', 'ዝንጅብል', 'በርበሬ', 'ዘለላ', 'ሲቀነጥሱ', 'ጥፍርን', 'ከጉዳት', 'የሚከላከል', 'material', ':', 'stainless', 'steel', ',', 'silicone', ',', 'pp', 'colour', 'ዋጋ፦', '250', 'ብር', 'ውስን', 'ፍሬ', 'አድራሻ', '#', 'መገናኛ_መሰረት_ደፋር_ሞል_ሁለተኛ_ፎቅ', 'ቢሮ', 'ቁ', 's05/s06', '0902660722', '0928460606', 'በTelegram', 'ለማዘዝ', 'ይጠቀሙ', 'ለተጨማሪ', 'ማብራሪያ', 'የቴሌግራም', 'ገፃችን']\n",
      "['portable', 'drying', 'rack', 'clips', 'cloth', 'hanger', 'ልብስ', 'ማስጫ', 'የሚዘረጋ', 'የሚሰበሰብ', 'የልብስ', 'መቆንጠጫ', '180', 'cm', 'ርዝመት', 'ተንቀሳቃሽ', 'ዋጋ፦', '500', 'ብር', 'ውስን', 'ፍሬ', 'አድራሻ', '#', 'መገናኛ_መሰረት_ደፋር_ሞል_ሁለተኛ_ፎቅ', 'ቢሮ', 'ቁ', 's05/s06', '0902660722', '0928460606', 'በTelegram', 'ለማዘዝ', 'ይጠቀሙ', 'ለተጨማሪ', 'ማብራሪያ', 'የቴሌግራም', 'ገፃችን']\n"
     ]
    }
   ],
   "source": [
    "col_data = data['message'].drop_duplicates().head(30).apply(process_language).to_list()\n",
    "with open(f'../data/message_tokens.txt', 'w') as f:\n",
    "    for col in col_data:\n",
    "        tokens = col.split(' ')\n",
    "        for token in tokens:\n",
    "            if(token !=':' or token !='#'):\n",
    "                f.write(f'{token}\\n')"
   ]
  },
  {
   "cell_type": "code",
   "execution_count": 14,
   "id": "602ef976",
   "metadata": {},
   "outputs": [
    {
     "data": {
      "application/vnd.microsoft.datawrangler.viewer.v0+json": {
       "columns": [
        {
         "name": "index",
         "rawType": "int64",
         "type": "integer"
        },
        {
         "name": "message",
         "rawType": "object",
         "type": "string"
        }
       ],
       "ref": "7de946f5-757f-4347-bced-f4e12b06acae",
       "rows": [
        [
         "0",
         "  Imitation Volcano Humidifier with LED Light  በኤሌክትሪክ:የሚሰራ ለቤት መልካም መዓዛን የሚሰጥ  ዋጋ፦  1400 ብር  ውስን ፍሬ ነው ያለን   አድራሻ  #መገናኛ_መሰረት_ደፋር_ሞል_ሁለተኛ_ፎቅ ቢሮ ቁ S05/S06         0902660722   0928460606    በTelegram ለማዘዝ  ይጠቀሙ       ለተጨማሪ ማብራሪያ የቴሌግራም ገፃችን   "
        ],
        [
         "1",
         "   Baby Carrier  በፈለጉት አቅጣጫ ልጅዎን በምቾት ማዘል ያስችልዎታል  ዋጋ፦  2400 ብር  ውስን ፍሬ ነው ያለን   አድራሻ  #መገናኛ_መሰረት_ደፋር_ሞል_ሁለተኛ_ፎቅ ቢሮ ቁ S05/S06         0902660722   0928460606    በTelegram ለማዘዝ  ይጠቀሙ       ለተጨማሪ ማብራሪያ የቴሌግራም ገፃችን   "
        ],
        [
         "2",
         "  Smart Usb Ultrasonic Car And Home Air Humidifier With Colorful Led Light   Original  High-quality   በኤሌክትሪክ የሚሰራ  ለቤትና ለመኪና መልካም መዓዛን የሚሰጥ  Elevate the comfort level within your living premises with this fantastic Green Lion Air Mist Humidifier  ዋጋ፦  1100 ብር  ውስን ፍሬ ነው ያለን   አድራሻ  #መገናኛ_መሰረት_ደፋር_ሞል_ሁለተኛ_ፎቅ ቢሮ ቁ S05/S06         0902660722   0928460606    በTelegram ለማዘዝ  ይጠቀሙ       ለተጨማሪ ማብራሪያ የቴሌግራም ገፃችን   "
        ],
        [
         "4",
         "  Baby Head Helmet Cotton Walk Safety Hat Breathable Headgear Toddler Antifall Pad  This product is made of non-toxic cotton material  It can be adjustable to fits all the different size of head  The product is also breathable and the baby's head will not be sultry and muggy when playing  ዋጋ፦  550 ብር  ውስን ፍሬ ነው ያለን   አድራሻ  #መገናኛ_መሰረት_ደፋር_ሞል_ሁለተኛ_ፎቅ ቢሮ ቁ S05/S06         0902660722   0928460606    በTelegram ለማዘዝ  ይጠቀሙ       ለተጨማሪ ማብራሪያ የቴሌግራም ገፃችን   "
        ],
        [
         "6",
         "   በረፍት ቀንዎ ሱቅ ላይ መስተናገድ ለምትፈልጉ ውድ ደንበኞቻችን   ነገ ከጠዋቱ 4:30 _ ቀኑ 11:00 ድረስ  ሱቃችን ክፍት ሁኖ ይጠብቅዎታል     ሱቅ መተው መግዛት ላልቻላችሁ በሞተረኞች ያሉበት እናደርሳለን    ዘወትር ሰኞ _ቅዳሜ ከጠዋቱ 2:30 እስከ ምሽቱ 2:00 ድረስ ክፍት መሆኑን እንገልፃለን   አድራሻ  #መገናኛ_መሰረት_ደፋር_ሞል_ሁለተኛ_ፎቅ ቢሮ ቁ S05/S06         0902660722   0928460606    በTelegram ለማዘዝ  ይጠቀሙ       ለተጨማሪ ማብራሪያ የቴሌግራም ገፃችን   "
        ],
        [
         "7",
         "   Baby knee socks  ልጅዎ መዳህ በሚጀምሩበት ጊዜ ተመራጭ  ዋጋ፦  250 ብር  ውስን ፍሬ ነው ያለን   አድራሻ  #መገናኛ_መሰረት_ደፋር_ሞል_ሁለተኛ_ፎቅ ቢሮ ቁ S05/S06         0902660722   0928460606    በTelegram ለማዘዝ  ይጠቀሙ       ለተጨማሪ ማብራሪያ የቴሌግራም ገፃችን   "
        ],
        [
         "9",
         "  5-in-1 Trouser Hanger የሱሪ ማስቀመጫ  ዋጋ፦  650 ብር  ውስን ፍሬ ነው ያለን   አድራሻ  #መገናኛ_መሰረት_ደፋር_ሞል_ሁለተኛ_ፎቅ ቢሮ ቁ S05/S06         0902660722   0928460606    በTelegram ለማዘዝ  ይጠቀሙ       ለተጨማሪ ማብራሪያ የቴሌግራም ገፃችን   "
        ],
        [
         "10",
         "  WaterProof Shower Cap    reusable  ዋጋ፦  200 ብር  ውስን ፍሬ ነው ያለው    አድራሻ  #መገናኛ_መሰረት_ደፋር_ሞል_ሁለተኛ_ፎቅ ቢሮ ቁ S05/S06         0902660722   0928460606    በTelegram ለማዘዝ  ይጠቀሙ       ለተጨማሪ ማብራሪያ የቴሌግራም ገፃችን   "
        ],
        [
         "11",
         "   Shock and Noise Cancelling Washing Machine Support  Washer and Dryer Pedestals,Anti Slip Anti Vibration Rubber Washing Machine Feet Pads Washing Machine Stabilizer for Raise Height  Reduce Noise 4PCS  ዋጋ፦  500 ብር  ውስን ፍሬ ነው ያለን   አድራሻ  #መገናኛ_መሰረት_ደፋር_ሞል_ሁለተኛ_ፎቅ ቢሮ ቁ S05/S06         0902660722   0928460606    በTelegram ለማዘዝ  ይጠቀሙ       ለተጨማሪ ማብራሪያ የቴሌግራም ገፃችን   "
        ],
        [
         "14",
         "   Magic Silicone Dish Washing Gloves  High Quality (ወፍራሙ)   ዕቃ ለማጠብ ቤት ለማፅዳት መኪና ለማጠብ   ለተለያየ አገልግሎት የሚውል  ዋጋ፦  350ብር  ውስን ፍሬ ነው ያለው    አድራሻ  #መገናኛ_መሰረት_ደፋር_ሞል_ሁለተኛ_ፎቅ ቢሮ ቁ S05/S06         0902660722   0928460606    በTelegram ለማዘዝ  ይጠቀሙ       ለተጨማሪ ማብራሪያ የቴሌግራም ገፃችን   "
        ],
        [
         "16",
         "   13pc Portable Health Care Kit  Designed For Newborn Babies   13 pieces of baby care set, stored in a carton for easy storage & organizing  Simple,convenientandeasytouse Madeofgreenmaterialstocareforthebaby’sgrowth effectivelyprotectbaby’shealth newandhighquality  ዋጋ፦  1100 ብር  ውስን ፍሬ ነው ያለው    አድራሻ  #መገናኛ_መሰረት_ደፋር_ሞል_ሁለተኛ_ፎቅ ቢሮ ቁ S05/S06         0902660722   0928460606    በTelegram ለማዘዝ  ይጠቀሙ       ለተጨማሪ ማብራሪያ የቴሌግራም ገፃችን   "
        ],
        [
         "17",
         "   Three-layer Baby Milk Powder Container    High Quality    Three Layer No-Spill Baby Feeding Milk Powder Food Dispenser A perfect storage for travel or home use  እናት ልጇን ይዛ የተለያየ ቦታ ስትንቀሳቀስ የዱቄት ወተት የመሳሰሉትን አስፈላጊ የልጆች ምግብ ይዞ ለመንቀሳቀስ የሚረዳ 3 ፓርቲሽን ያለው አሪፍ ኮንቴነር  ዋጋ፦  550ብር  ውስን ፍሬ ነው ያለው    አድራሻ  #መገናኛ_መሰረት_ደፋር_ሞል_ሁለተኛ_ፎቅ ቢሮ ቁ S05/S06         0902660722   0928460606    በTelegram ለማዘዝ  ይጠቀሙ       ለተጨማሪ ማብራሪያ የቴሌግራም ገፃችን   "
        ],
        [
         "18",
         "   Three-layer Baby Milk Powder Container    High Quality    Three Layer No-Spill Baby Feeding Milk Powder Food Dispenser A perfect storage for travel or home use  እናት ልጇን ይዛ የተለያየ ቦታ ስትንቀሳቀስ የዱቄት ወተት የመሳሰሉትን አስፈላጊ የልጆች ምግብ ይዞ ለመንቀሳቀስ የሚረዳ 3 ፓርቲሽን ያለው አሪፍ ኮንቴነር  ዋጋ፦  500ብር  ውስን ፍሬ ነው ያለው    አድራሻ  #መገናኛ_መሰረት_ደፋር_ሞል_ሁለተኛ_ፎቅ ቢሮ ቁ S05/S06         0902660722   0928460606    በTelegram ለማዘዝ  ይጠቀሙ       ለተጨማሪ ማብራሪያ የቴሌግራም ገፃችን   "
        ],
        [
         "19",
         " አልቋል ለተባላችሁ በድጋሜ ገብቷል    Only baby 3in1 double bottle milk warmer,sterilizer,food steamer  ለሕፃን ወተት ማሞቂያ  በተጨማሪ ምግብ ለመቀቀል የሚሆን   ዋጋ፦ 3000 ብር  ውስን ፍሬ ነው ያለው   አድራሻ  #መገናኛ_መሰረት_ደፋር_ሞል_ሁለተኛ_ፎቅ ቢሮ ቁ S05/S06         0902660722   0928460606    በTelegram ለማዘዝ  ይጠቀሙ       ለተጨማሪ ማብራሪያ የቴሌግራም ገፃችን   "
        ],
        [
         "21",
         "   Mini Pocket UV Umbrella   የቀለም አማራጭ አላቸው  በጣም ቀላል፣ ለመያዝ ምቹ ጥላ  በትንሽ የእጅ ቦርሳ ወይም በኪስ መያዝ የሚችል  :  Compact & Light-Weight Unique Design UV protection  ዋጋ፦  1000ብር  ውስን ፍሬ ነው ያለው    አድራሻ  #መገናኛ_መሰረት_ደፋር_ሞል_ሁለተኛ_ፎቅ ቢሮ ቁ S05/S06         0902660722   0928460606    በTelegram ለማዘዝ  ይጠቀሙ       ለተጨማሪ ማብራሪያ የቴሌግራም ገፃችን   "
        ],
        [
         "23",
         "  Waterproof Baby Urine Mat Cover  ውሃ የማያስገባ እንደገና ሊታጠብ የሚችል የሕፃን የሽንት ምንጣፍ።  በተጨማሪም ዳይፐር ለመቀየር የሚያገለግል  Reusable  Washable  Size: 1m×80cm  ዋጋ፦ 650ብር  ውስን ፍሬ ነው ያለው    አድራሻ  #መገናኛ_መሰረት_ደፋር_ሞል_ሁለተኛ_ፎቅ ቢሮ ቁ S05/S06         0902660722   0928460606    በTelegram ለማዘዝ  ይጠቀሙ       ለተጨማሪ ማብራሪያ የቴሌግራም ገፃችን   "
        ],
        [
         "24",
         "  Space triangles for hangers   12pcs  ዋጋ፦  400ብር  ውስን ፍሬ ነው ያለው    አድራሻ  #መገናኛ_መሰረት_ደፋር_ሞል_ሁለተኛ_ፎቅ ቢሮ ቁ S05/S06         0902660722   0928460606    በTelegram ለማዘዝ  ይጠቀሙ       ለተጨማሪ ማብራሪያ የቴሌግራም ገፃችን   "
        ],
        [
         "26",
         "  Door Bottom Seal Strip Stopper በበርዎ ስር አቧራ እና ነፍሳት እንዳይገባ   የሚከላከል!!!  High Quality  ® አንደኛው ወፍራሙ   Keep Hot and Cold Air isolated   Reduce The Noise Outside and Door slamming   No       ዋጋ፦  400ብር  ውስን ፍሬ ነው ያለው    አድራሻ  #መገናኛ_መሰረት_ደፋር_ሞል_ሁለተኛ_ፎቅ ቢሮ ቁ S05/S06         0902660722   0928460606    በTelegram ለማዘዝ  ይጠቀሙ       ለተጨማሪ ማብራሪያ የቴሌግራም ገፃችን   "
        ],
        [
         "28",
         "  One Fire Table Lamp  በተች የሚሰራ  ቻርጅ የሚደረግ  ለመኝታ ቤት ፣ ለሳሎን ፣ ለ ሆቴሎች እንዲሁም ለባዝ ሩም  ዋጋ፦  1900ብር  ውስን ፍሬ ነው ያለው    አድራሻ  #መገናኛ_መሰረት_ደፋር_ሞል_ሁለተኛ_ፎቅ ቢሮ ቁ S05/S06         0902660722   0928460606    በTelegram ለማዘዝ  ይጠቀሙ       ለተጨማሪ ማብራሪያ የቴሌግራም ገፃችን   "
        ],
        [
         "30",
         "  Vaccuum flask set  የፔርሙዝ ማግ 3 መጠጫ ኩባያዎች ያሉት ለ 12 ሰአታት የሞቀዉን አሙቆ የቀዘቀዘዉን አቀዝቅዞ ሚያስቀምጥ ድንገት ቢወድቅ እንኳን ከማይሰበር ማቴሪያል የተሰራ 500ሚሊ ሊትር የመያዝ አቅም ያለዉ በተለያየ የከለር አማራጭ የቀረበ ለስጦታ የሚሆን የራሱ ማሸጊያና መያዣ ያለዉ  ዋጋ፦  1200 ብር  ውስን ፍሬ ነው ያለው    አድራሻ  #መገናኛ_መሰረት_ደፋር_ሞል_ሁለተኛ_ፎቅ ቢሮ ቁ S05/S06         0902660722   0928460606    በTelegram ለማዘዝ  ይጠቀሙ       ለተጨማሪ ማብራሪያ የቴሌግራም ገፃችን   "
        ],
        [
         "31",
         "ለመላው የእስልምና እምነት ተከታዮች  በሙሉ እንኳን ለኢድ አል አድሀ(ዓረፋ)  በዓል በሰላም አደረሳችሁ   ዛሬ ሱቃችን ሙሉ ቀን ክፍት ነው   አድራሻ  #መገናኛ_መሰረት_ደፋር_ሞል_ሁለተኛ_ፎቅ ቢሮ ቁ S05/S06         0902660722   0928460606    በTelegram ለማዘዝ  ይጠቀሙ       ለተጨማሪ ማብራሪያ የቴሌግራም ገፃችን   "
        ],
        [
         "32",
         "  Stainless steel potato masher   Quality  ዋጋ፦  450 ብር  ውስን ፍሬ ነው ያለው    አድራሻ  #መገናኛ_መሰረት_ደፋር_ሞል_ሁለተኛ_ፎቅ ቢሮ ቁ S05/S06         0902660722   0928460606    በTelegram ለማዘዝ  ይጠቀሙ       ለተጨማሪ ማብራሪያ የቴሌግራም ገፃችን   "
        ],
        [
         "33",
         "  2 in1 Electric Foot grinder & hair remover  የተረከዝ ሞረድ እና የፀጉር ማንሻ በ ቻርጅ የሚሰራ  ዋጋ፦  1000 ብር  ውስን ፍሬ ነው ያለው    አድራሻ  #መገናኛ_መሰረት_ደፋር_ሞል_ሁለተኛ_ፎቅ ቢሮ ቁ S05/S06         0902660722   0928460606    በTelegram ለማዘዝ  ይጠቀሙ       ለተጨማሪ ማብራሪያ የቴሌግራም ገፃችን   "
        ],
        [
         "35",
         " Garlic press Chopper   Kitchen ginger garlic pressQuick grindingSaving you time Manual extrusion and grinding Stainless steel materialFood grade safety materialDurable and easy to clean Curved plastic handleComfortable to use  ዋጋ፦  350 ብር  ውስን ፍሬ ነው ያለው    አድራሻ  #መገናኛ_መሰረት_ደፋር_ሞል_ሁለተኛ_ፎቅ ቢሮ ቁ S05/S06         0902660722   0928460606    በTelegram ለማዘዝ  ይጠቀሙ       ለተጨማሪ ማብራሪያ የቴሌግራም ገፃችን   "
        ],
        [
         "37",
         "  Over Toilet Storage Rack  የቦታ ጥበት ካለብዎ ይሄ ያስፈልግዎታል  Toilet/Kitchen ላይ ሊጠቀሙበት ይችላሉ የንፅህና ዕቃዎችን፣ ኮስሞቲክሶች እና አትክልት/ፍራፍሬዎችን ሊያስቀምጡበት ይችላሉ  ግድግዳ መብሳት አያስፈልግዎትም  ከጠንካራ ብረት እና ፕላስቲክ የተሰራ እርጥበትን የሚቋቋም የማይዝግ  ማያያዣ ሁክ ያለው  ዋጋ፦  1500 ብር  ውስን ፍሬ ነው ያለው    አድራሻ  #መገናኛ_መሰረት_ደፋር_ሞል_ሁለተኛ_ፎቅ ቢሮ ቁ S05/S06         0902660722   0928460606    በTelegram ለማዘዝ  ይጠቀሙ       ለተጨማሪ ማብራሪያ የቴሌግራም ገፃችን   "
        ],
        [
         "40",
         "  Coffee Cold Extraction Cup  Ice Coffee Maker  Portable Cold Brew Bottle Maker Mug  Leak Proof Airtight Lid with Mesh Filter  Ice Coffee Jar Tea Infuser for Outdoor  የአጠቃቀም ዘዴ  1⃣,ለቡና ዱቄት የሚሆን በቂ ቦታ በመተው በውሃ መሙላት ይጀምሩ  2⃣,ውስጥ ባለው ማጣሪያ የሚፈልጉትን የቡና መጠን ይጨምሩ  3⃣,የማጣሪያውን ክዳን አጥብቀው ይዝጉ እና የቡናውን ቦታ በእኩል መጠን ለማከፋፈል ቀስ ብለው ማወዛወዝ  4⃣,ለተወሰኑ ሰአታት ፍሪጅ ውስጥ ማስቀመጥ  5⃣, ቀዝቃዛ ቡናዎን በበረዶ ወይም ከወተት ጋር በመቀላቀል መጠጣት ይችላሉ  ዋጋ፦  900 ብር   ውስን ፍሬ ነው ያለው    አድራሻ   #መገናኛ_መሰረት_ደፋር_ሞል_ሁለተኛ_ፎቅ ቢሮ ቁ S05/S06         0902660722   0928460606    በTelegram ለማዘዝ  ይጠቀሙ       ለተጨማሪ ማብራሪያ የቴሌግራም ገፃችን   "
        ],
        [
         "42",
         "   Floodlight Head lamp   rechargeable  light weight   Applicable to various scenarios such as  camping    night running    Repairing    Cycling  ዋጋ፦  950 ብር  ውስን ፍሬ ነው ያለው    አድራሻ  #መገናኛ_መሰረት_ደፋር_ሞል_ሁለተኛ_ፎቅ ቢሮ ቁ S05/S06         0902660722   0928460606    በTelegram ለማዘዝ  ይጠቀሙ       ለተጨማሪ ማብራሪያ የቴሌግራም ገፃችን   "
        ],
        [
         "44",
         "  Car Solar Aromatherapy  በ ፀሀይ ብርሀን የሚሰራ ለመኪናዎ ጥሩ ጠረን የሚያላብስ እየተሽከረከረ አየር በማፅዳት ጥሩ መአዛን የሚሰጥ   ለመኪናዎ ተጨማሪ ውበትን የሚሰጥ   በተመጣጣኝ ዋጋ   ዋጋ፦  850 ብር    ውስን ፍሬ ነው ያለው   አድራሻ  #መገናኛ_መሰረት_ደፋር_ሞል_ሁለተኛ_ፎቅ ቢሮ ቁ S05/S06         0902660722   0928460606    በTelegram ለማዘዝ  ይጠቀሙ       ለተጨማሪ ማብራሪያ የቴሌግራም ገፃችን   "
        ],
        [
         "46",
         "  Silicone Thumb Cutter  የጣት ጥፍር መከላከያ ሽንኩርት ሲልጡ ፣ ዝንጅብል እና በርበሬ  ዘለላ ሲቀነጥሱ ጥፍርን ከጉዳት የሚከላከል Material: Stainless Steel, Silicone, pp colour   ዋጋ፦  250 ብር  ውስን ፍሬ ነው ያለው    አድራሻ  #መገናኛ_መሰረት_ደፋር_ሞል_ሁለተኛ_ፎቅ ቢሮ ቁ S05/S06         0902660722   0928460606    በTelegram ለማዘዝ  ይጠቀሙ       ለተጨማሪ ማብራሪያ የቴሌግራም ገፃችን   "
        ],
        [
         "48",
         "   Portable drying rack Clips cloth hanger  ልብስ ማስጫ  የሚዘረጋ የሚሰበሰብ የራሱ የልብስ መቆንጠጫ ያለው 180 cm ርዝመት  ተንቀሳቃሽ  ዋጋ፦  500 ብር  ውስን ፍሬ ነው ያለው   አድራሻ  #መገናኛ_መሰረት_ደፋር_ሞል_ሁለተኛ_ፎቅ ቢሮ ቁ S05/S06         0902660722   0928460606    በTelegram ለማዘዝ  ይጠቀሙ       ለተጨማሪ ማብራሪያ የቴሌግራም ገፃችን   "
        ]
       ],
       "shape": {
        "columns": 1,
        "rows": 30
       }
      },
      "text/plain": [
       "0       Imitation Volcano Humidifier with LED Light ...\n",
       "1        Baby Carrier  በፈለጉት አቅጣጫ ልጅዎን በምቾት ማዘል ያስችል...\n",
       "2       Smart Usb Ultrasonic Car And Home Air Humidi...\n",
       "4       Baby Head Helmet Cotton Walk Safety Hat Brea...\n",
       "6        በረፍት ቀንዎ ሱቅ ላይ መስተናገድ ለምትፈልጉ ውድ ደንበኞቻችን   ነ...\n",
       "7        Baby knee socks  ልጅዎ መዳህ በሚጀምሩበት ጊዜ ተመራጭ  ዋ...\n",
       "9       5-in-1 Trouser Hanger የሱሪ ማስቀመጫ  ዋጋ፦  650 ብር...\n",
       "10      WaterProof Shower Cap    reusable  ዋጋ፦  200 ...\n",
       "11       Shock and Noise Cancelling Washing Machine ...\n",
       "14       Magic Silicone Dish Washing Gloves  High Qu...\n",
       "16       13pc Portable Health Care Kit  Designed For...\n",
       "17       Three-layer Baby Milk Powder Container    H...\n",
       "18       Three-layer Baby Milk Powder Container    H...\n",
       "19     አልቋል ለተባላችሁ በድጋሜ ገብቷል    Only baby 3in1 doubl...\n",
       "21       Mini Pocket UV Umbrella   የቀለም አማራጭ አላቸው  በ...\n",
       "23      Waterproof Baby Urine Mat Cover  ውሃ የማያስገባ እ...\n",
       "24      Space triangles for hangers   12pcs  ዋጋ፦  40...\n",
       "26      Door Bottom Seal Strip Stopper በበርዎ ስር አቧራ እ...\n",
       "28      One Fire Table Lamp  በተች የሚሰራ  ቻርጅ የሚደረግ  ለመ...\n",
       "30      Vaccuum flask set  የፔርሙዝ ማግ 3 መጠጫ ኩባያዎች ያሉት ...\n",
       "31    ለመላው የእስልምና እምነት ተከታዮች  በሙሉ እንኳን ለኢድ አል አድሀ(ዓረ...\n",
       "32      Stainless steel potato masher   Quality  ዋጋ፦...\n",
       "33      2 in1 Electric Foot grinder & hair remover  ...\n",
       "35     Garlic press Chopper   Kitchen ginger garlic ...\n",
       "37      Over Toilet Storage Rack  የቦታ ጥበት ካለብዎ ይሄ ያስ...\n",
       "40      Coffee Cold Extraction Cup  Ice Coffee Maker...\n",
       "42       Floodlight Head lamp   rechargeable  light ...\n",
       "44      Car Solar Aromatherapy  በ ፀሀይ ብርሀን የሚሰራ ለመኪና...\n",
       "46      Silicone Thumb Cutter  የጣት ጥፍር መከላከያ ሽንኩርት ሲ...\n",
       "48       Portable drying rack Clips cloth hanger  ልብ...\n",
       "Name: message, dtype: object"
      ]
     },
     "execution_count": 14,
     "metadata": {},
     "output_type": "execute_result"
    }
   ],
   "source": [
    "data['message'].drop_duplicates().head(30)"
   ]
  }
 ],
 "metadata": {
  "kernelspec": {
   "display_name": ".venv",
   "language": "python",
   "name": "python3"
  },
  "language_info": {
   "codemirror_mode": {
    "name": "ipython",
    "version": 3
   },
   "file_extension": ".py",
   "mimetype": "text/x-python",
   "name": "python",
   "nbconvert_exporter": "python",
   "pygments_lexer": "ipython3",
   "version": "3.13.3"
  }
 },
 "nbformat": 4,
 "nbformat_minor": 5
}
